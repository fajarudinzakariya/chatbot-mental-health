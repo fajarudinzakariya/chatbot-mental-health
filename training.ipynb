{
  "cells": [
    {
      "cell_type": "code",
      "execution_count": 211,
      "metadata": {
        "id": "G0p5Bj1Hx-io"
      },
      "outputs": [],
      "source": [
        "# Import Library\n",
        "import json\n",
        "import numpy as np\n",
        "import pandas as pd\n",
        "import tensorflow as tf\n",
        "import nltk\n",
        "import random\n",
        "import string\n",
        "import joblib\n",
        "import matplotlib.pyplot as plt\n",
        "from nltk.stem import WordNetLemmatizer\n",
        "from tensorflow.keras.models import Model\n",
        "from sklearn.preprocessing import LabelEncoder\n",
        "from tensorflow.keras.preprocessing.text import Tokenizer\n",
        "from tensorflow.keras.layers import Input, Embedding, LSTM, Dropout, GlobalMaxPool1D, Bidirectional, Conv1D, MaxPooling1D, Bidirectional, GRU\n",
        "from tensorflow.keras.optimizers import Adam\n",
        "from tensorflow.keras import regularizers\n",
        "from sklearn.model_selection import train_test_split\n",
        "from tensorflow.keras.preprocessing.sequence import pad_sequences\n",
        "from tensorflow.keras.layers import Flatten, Dense, GlobalMaxPool1D"
      ]
    },
    {
      "cell_type": "code",
      "execution_count": 212,
      "metadata": {
        "id": "tG5BIhNYyHdU"
      },
      "outputs": [],
      "source": [
        "with open('dataset.json') as content:\n",
        "  data = json.load(content)"
      ]
    },
    {
      "cell_type": "code",
      "execution_count": 213,
      "metadata": {
        "colab": {
          "base_uri": "https://localhost:8080/"
        },
        "id": "WwxUoXK3zRcm",
        "outputId": "981c8ab9-e8cf-4129-b74e-09c1fd29450e"
      },
      "outputs": [
        {
          "name": "stderr",
          "output_type": "stream",
          "text": [
            "[nltk_data] Downloading package punkt to\n",
            "[nltk_data]     C:\\Users\\fajar\\AppData\\Roaming\\nltk_data...\n",
            "[nltk_data]   Package punkt is already up-to-date!\n",
            "[nltk_data] Downloading package wordnet to\n",
            "[nltk_data]     C:\\Users\\fajar\\AppData\\Roaming\\nltk_data...\n",
            "[nltk_data]   Package wordnet is already up-to-date!\n",
            "[nltk_data] Downloading package omw-1.4 to\n",
            "[nltk_data]     C:\\Users\\fajar\\AppData\\Roaming\\nltk_data...\n",
            "[nltk_data]   Package omw-1.4 is already up-to-date!\n"
          ]
        },
        {
          "data": {
            "text/plain": [
              "True"
            ]
          },
          "execution_count": 213,
          "metadata": {},
          "output_type": "execute_result"
        }
      ],
      "source": [
        "# Package sentence tokenizer\n",
        "nltk.download('punkt')\n",
        "# Package lemmatization\n",
        "nltk.download('wordnet')\n",
        "# Package multilingual wordnet data\n",
        "nltk.download('omw-1.4')"
      ]
    },
    {
      "cell_type": "code",
      "execution_count": 214,
      "metadata": {
        "colab": {
          "base_uri": "https://localhost:8080/",
          "height": 245
        },
        "id": "w-QY9K7hyLTk",
        "outputId": "d300e755-131e-4121-8f3a-924aa9bf1fe2"
      },
      "outputs": [],
      "source": [
        "# Mendapatkan semua data ke dalam list\n",
        "tags = [] # data tag\n",
        "inputs = [] # data input atau pattern\n",
        "responses = {} # data respon\n",
        "words = [] # Data kata\n",
        "classes = [] # Data Kelas atau Tag\n",
        "documents = [] # Data Kalimat Dokumen\n",
        "ignore_words = ['?', '!'] # Mengabaikan tanda spesial karakter\n",
        "\n",
        "for intent in data['intents']:\n",
        "  responses[intent['tag']]=intent['responses']\n",
        "  for lines in intent['patterns']:\n",
        "    inputs.append(lines)\n",
        "    tags.append(intent['tag'])\n",
        "    for pattern in intent['patterns']:\n",
        "      w = nltk.word_tokenize(pattern)\n",
        "      words.extend(w)\n",
        "      documents.append((w, intent['tag']))\n",
        "      # add to our classes list\n",
        "      if intent['tag'] not in classes:\n",
        "        classes.append(intent['tag'])\n"
      ]
    },
    {
      "cell_type": "code",
      "execution_count": 215,
      "metadata": {},
      "outputs": [
        {
          "data": {
            "text/plain": [
              "['responses.pkl']"
            ]
          },
          "execution_count": 215,
          "metadata": {},
          "output_type": "execute_result"
        }
      ],
      "source": [
        "joblib.dump(responses, 'responses.pkl')"
      ]
    },
    {
      "cell_type": "code",
      "execution_count": 216,
      "metadata": {
        "id": "jGpnIAWEyP-P"
      },
      "outputs": [],
      "source": [
        "# Split dataset into training set and test set\n",
        "X_train, X_test, y_train, y_test = train_test_split(inputs, tags,test_size=0.2, random_state=20)\n",
        "\n",
        "# Konversi data ke dalam dataframe\n",
        "train_data = pd.DataFrame({\"patterns\": X_train, \"tags\": y_train})\n",
        "test_data = pd.DataFrame({\"patterns\": X_test, \"tags\": y_test})"
      ]
    },
    {
      "cell_type": "code",
      "execution_count": 217,
      "metadata": {
        "id": "NZSRrK9dtmDo"
      },
      "outputs": [
        {
          "name": "stdout",
          "output_type": "stream",
          "text": [
            "<class 'pandas.core.frame.DataFrame'>\n",
            "RangeIndex: 296 entries, 0 to 295\n",
            "Data columns (total 2 columns):\n",
            " #   Column    Non-Null Count  Dtype \n",
            "---  ------    --------------  ----- \n",
            " 0   patterns  296 non-null    object\n",
            " 1   tags      296 non-null    object\n",
            "dtypes: object(2)\n",
            "memory usage: 4.8+ KB\n"
          ]
        }
      ],
      "source": [
        "train_data.info()"
      ]
    },
    {
      "cell_type": "code",
      "execution_count": 218,
      "metadata": {
        "id": "5afUT0eBtx2p"
      },
      "outputs": [
        {
          "name": "stdout",
          "output_type": "stream",
          "text": [
            "<class 'pandas.core.frame.DataFrame'>\n",
            "RangeIndex: 75 entries, 0 to 74\n",
            "Data columns (total 2 columns):\n",
            " #   Column    Non-Null Count  Dtype \n",
            "---  ------    --------------  ----- \n",
            " 0   patterns  75 non-null     object\n",
            " 1   tags      75 non-null     object\n",
            "dtypes: object(2)\n",
            "memory usage: 1.3+ KB\n"
          ]
        }
      ],
      "source": [
        "test_data.info()"
      ]
    },
    {
      "cell_type": "code",
      "execution_count": 219,
      "metadata": {
        "id": "wzu_eWU3RhaM"
      },
      "outputs": [
        {
          "data": {
            "text/html": [
              "<div>\n",
              "<style scoped>\n",
              "    .dataframe tbody tr th:only-of-type {\n",
              "        vertical-align: middle;\n",
              "    }\n",
              "\n",
              "    .dataframe tbody tr th {\n",
              "        vertical-align: top;\n",
              "    }\n",
              "\n",
              "    .dataframe thead th {\n",
              "        text-align: right;\n",
              "    }\n",
              "</style>\n",
              "<table border=\"1\" class=\"dataframe\">\n",
              "  <thead>\n",
              "    <tr style=\"text-align: right;\">\n",
              "      <th></th>\n",
              "      <th>patterns</th>\n",
              "      <th>tags</th>\n",
              "    </tr>\n",
              "  </thead>\n",
              "  <tbody>\n",
              "    <tr>\n",
              "      <th>count</th>\n",
              "      <td>296</td>\n",
              "      <td>296</td>\n",
              "    </tr>\n",
              "    <tr>\n",
              "      <th>unique</th>\n",
              "      <td>293</td>\n",
              "      <td>59</td>\n",
              "    </tr>\n",
              "    <tr>\n",
              "      <th>top</th>\n",
              "      <td>gangguan makan</td>\n",
              "      <td>selamat datang</td>\n",
              "    </tr>\n",
              "    <tr>\n",
              "      <th>freq</th>\n",
              "      <td>2</td>\n",
              "      <td>16</td>\n",
              "    </tr>\n",
              "  </tbody>\n",
              "</table>\n",
              "</div>"
            ],
            "text/plain": [
              "              patterns            tags\n",
              "count              296             296\n",
              "unique             293              59\n",
              "top     gangguan makan  selamat datang\n",
              "freq                 2              16"
            ]
          },
          "execution_count": 219,
          "metadata": {},
          "output_type": "execute_result"
        }
      ],
      "source": [
        "train_data.describe()"
      ]
    },
    {
      "cell_type": "code",
      "execution_count": 220,
      "metadata": {
        "id": "fUlNHfnBRl-m"
      },
      "outputs": [
        {
          "data": {
            "text/html": [
              "<div>\n",
              "<style scoped>\n",
              "    .dataframe tbody tr th:only-of-type {\n",
              "        vertical-align: middle;\n",
              "    }\n",
              "\n",
              "    .dataframe tbody tr th {\n",
              "        vertical-align: top;\n",
              "    }\n",
              "\n",
              "    .dataframe thead th {\n",
              "        text-align: right;\n",
              "    }\n",
              "</style>\n",
              "<table border=\"1\" class=\"dataframe\">\n",
              "  <thead>\n",
              "    <tr style=\"text-align: right;\">\n",
              "      <th></th>\n",
              "      <th>patterns</th>\n",
              "      <th>tags</th>\n",
              "    </tr>\n",
              "  </thead>\n",
              "  <tbody>\n",
              "    <tr>\n",
              "      <th>count</th>\n",
              "      <td>75</td>\n",
              "      <td>75</td>\n",
              "    </tr>\n",
              "    <tr>\n",
              "      <th>unique</th>\n",
              "      <td>75</td>\n",
              "      <td>40</td>\n",
              "    </tr>\n",
              "    <tr>\n",
              "      <th>top</th>\n",
              "      <td>siang</td>\n",
              "      <td>selamat datang</td>\n",
              "    </tr>\n",
              "    <tr>\n",
              "      <th>freq</th>\n",
              "      <td>1</td>\n",
              "      <td>6</td>\n",
              "    </tr>\n",
              "  </tbody>\n",
              "</table>\n",
              "</div>"
            ],
            "text/plain": [
              "       patterns            tags\n",
              "count        75              75\n",
              "unique       75              40\n",
              "top       siang  selamat datang\n",
              "freq          1               6"
            ]
          },
          "execution_count": 220,
          "metadata": {},
          "output_type": "execute_result"
        }
      ],
      "source": [
        "test_data.describe()"
      ]
    },
    {
      "cell_type": "code",
      "execution_count": 221,
      "metadata": {
        "id": "QxA3cv9_yODX"
      },
      "outputs": [
        {
          "data": {
            "text/html": [
              "<div>\n",
              "<style scoped>\n",
              "    .dataframe tbody tr th:only-of-type {\n",
              "        vertical-align: middle;\n",
              "    }\n",
              "\n",
              "    .dataframe tbody tr th {\n",
              "        vertical-align: top;\n",
              "    }\n",
              "\n",
              "    .dataframe thead th {\n",
              "        text-align: right;\n",
              "    }\n",
              "</style>\n",
              "<table border=\"1\" class=\"dataframe\">\n",
              "  <thead>\n",
              "    <tr style=\"text-align: right;\">\n",
              "      <th></th>\n",
              "      <th>patterns</th>\n",
              "      <th>tags</th>\n",
              "    </tr>\n",
              "  </thead>\n",
              "  <tbody>\n",
              "    <tr>\n",
              "      <th>0</th>\n",
              "      <td>frustasi itu apa?</td>\n",
              "      <td>frustasi</td>\n",
              "    </tr>\n",
              "    <tr>\n",
              "      <th>1</th>\n",
              "      <td>apa itu bunuh diri?</td>\n",
              "      <td>pengertian bunuh diri</td>\n",
              "    </tr>\n",
              "    <tr>\n",
              "      <th>2</th>\n",
              "      <td>penyebab depresi apa?</td>\n",
              "      <td>penyebab depresi</td>\n",
              "    </tr>\n",
              "    <tr>\n",
              "      <th>3</th>\n",
              "      <td>meredakan depresi</td>\n",
              "      <td>cara menangani depresi</td>\n",
              "    </tr>\n",
              "    <tr>\n",
              "      <th>4</th>\n",
              "      <td>bye</td>\n",
              "      <td>selamat tinggal</td>\n",
              "    </tr>\n",
              "  </tbody>\n",
              "</table>\n",
              "</div>"
            ],
            "text/plain": [
              "                patterns                    tags\n",
              "0      frustasi itu apa?                frustasi\n",
              "1    apa itu bunuh diri?   pengertian bunuh diri\n",
              "2  penyebab depresi apa?        penyebab depresi\n",
              "3      meredakan depresi  cara menangani depresi\n",
              "4                    bye         selamat tinggal"
            ]
          },
          "execution_count": 221,
          "metadata": {},
          "output_type": "execute_result"
        }
      ],
      "source": [
        "train_data.head()"
      ]
    },
    {
      "cell_type": "code",
      "execution_count": 222,
      "metadata": {
        "id": "hLv2UfORyAOU"
      },
      "outputs": [
        {
          "data": {
            "text/html": [
              "<div>\n",
              "<style scoped>\n",
              "    .dataframe tbody tr th:only-of-type {\n",
              "        vertical-align: middle;\n",
              "    }\n",
              "\n",
              "    .dataframe tbody tr th {\n",
              "        vertical-align: top;\n",
              "    }\n",
              "\n",
              "    .dataframe thead th {\n",
              "        text-align: right;\n",
              "    }\n",
              "</style>\n",
              "<table border=\"1\" class=\"dataframe\">\n",
              "  <thead>\n",
              "    <tr style=\"text-align: right;\">\n",
              "      <th></th>\n",
              "      <th>patterns</th>\n",
              "      <th>tags</th>\n",
              "    </tr>\n",
              "  </thead>\n",
              "  <tbody>\n",
              "    <tr>\n",
              "      <th>0</th>\n",
              "      <td>siang</td>\n",
              "      <td>selamat datang</td>\n",
              "    </tr>\n",
              "    <tr>\n",
              "      <th>1</th>\n",
              "      <td>Mengatasi trauma psikologis</td>\n",
              "      <td>mengatasi trauma</td>\n",
              "    </tr>\n",
              "    <tr>\n",
              "      <th>2</th>\n",
              "      <td>penyebab bipolar apa?</td>\n",
              "      <td>penyebab gangguan bipolar</td>\n",
              "    </tr>\n",
              "    <tr>\n",
              "      <th>3</th>\n",
              "      <td>mengatasi kesepian</td>\n",
              "      <td>cara mengatasi kesepian</td>\n",
              "    </tr>\n",
              "    <tr>\n",
              "      <th>4</th>\n",
              "      <td>dukungan teman untuk orang dengan gangguan kes...</td>\n",
              "      <td>dukungan teman</td>\n",
              "    </tr>\n",
              "  </tbody>\n",
              "</table>\n",
              "</div>"
            ],
            "text/plain": [
              "                                            patterns  \\\n",
              "0                                              siang   \n",
              "1                        Mengatasi trauma psikologis   \n",
              "2                              penyebab bipolar apa?   \n",
              "3                                 mengatasi kesepian   \n",
              "4  dukungan teman untuk orang dengan gangguan kes...   \n",
              "\n",
              "                        tags  \n",
              "0             selamat datang  \n",
              "1           mengatasi trauma  \n",
              "2  penyebab gangguan bipolar  \n",
              "3    cara mengatasi kesepian  \n",
              "4             dukungan teman  "
            ]
          },
          "execution_count": 222,
          "metadata": {},
          "output_type": "execute_result"
        }
      ],
      "source": [
        "test_data.head()"
      ]
    },
    {
      "cell_type": "code",
      "execution_count": 223,
      "metadata": {
        "id": "cQeG3ZFEyRLy"
      },
      "outputs": [],
      "source": [
        "train_data['patterns'] = train_data['patterns'].apply(lambda wrd: [ltrs.lower() for ltrs in wrd if ltrs not in string.punctuation])\n",
        "train_data['patterns'] = train_data['patterns'].apply(lambda wrd: ''.join(wrd))\n",
        "test_data['patterns'] = test_data['patterns'].apply(lambda wrd: [ltrs.lower() for ltrs in wrd if ltrs not in string.punctuation])\n",
        "test_data['patterns'] = test_data['patterns'].apply(lambda wrd: ''.join(wrd))"
      ]
    },
    {
      "cell_type": "code",
      "execution_count": 224,
      "metadata": {
        "id": "KtXY6PSl5j-P"
      },
      "outputs": [],
      "source": [
        "# Inisialisasi Lemmatizer\n",
        "lemmatizer = WordNetLemmatizer()\n",
        "\n",
        "# Fungsi untuk melakukan lemmatization pada kata-kata dalam kalimat\n",
        "def lemmatize_text(text):\n",
        "    tokens = nltk.word_tokenize(text)  # Tokenisasi kata-kata dalam kalimat\n",
        "    lemmatized_tokens = [lemmatizer.lemmatize(token) for token in tokens]  # Lemmatization\n",
        "    lemmatized_text = ' '.join(lemmatized_tokens)  # Menggabungkan kembali kata-kata menjadi kalimat\n",
        "    return lemmatized_text\n",
        "\n",
        "# Contoh penggunaan fungsi lemmatize_text pada dataset\n",
        "train_data['patterns'] = train_data['patterns'].apply(lemmatize_text)\n",
        "test_data['patterns'] = test_data['patterns'].apply(lemmatize_text)"
      ]
    },
    {
      "cell_type": "code",
      "execution_count": 225,
      "metadata": {
        "id": "Oj_OfY-Jyckg"
      },
      "outputs": [],
      "source": [
        "# Tokenize the data (Tokenisasi Data)\n",
        "tokenizer = Tokenizer(num_words=2000)\n",
        "tokenizer.fit_on_texts(train_data['patterns'])\n",
        "\n",
        "x_train = tokenizer.texts_to_sequences(train_data['patterns'])\n",
        "x_test = tokenizer.texts_to_sequences(test_data['patterns'])"
      ]
    },
    {
      "cell_type": "code",
      "execution_count": 226,
      "metadata": {},
      "outputs": [
        {
          "data": {
            "text/plain": [
              "['tokenizer.pkl']"
            ]
          },
          "execution_count": 226,
          "metadata": {},
          "output_type": "execute_result"
        }
      ],
      "source": [
        "joblib.dump(tokenizer, 'tokenizer.pkl')"
      ]
    },
    {
      "cell_type": "code",
      "execution_count": 227,
      "metadata": {
        "id": "lcMsfSegyisb"
      },
      "outputs": [],
      "source": [
        "# Apply padding\n",
        "max_sequence_length = max(len(seq) for seq in x_train + x_test)\n",
        "x_train = pad_sequences(x_train, maxlen=max_sequence_length)\n",
        "x_test = pad_sequences(x_test, maxlen=max_sequence_length)"
      ]
    },
    {
      "cell_type": "code",
      "execution_count": 228,
      "metadata": {},
      "outputs": [
        {
          "data": {
            "text/plain": [
              "['max_sequence_length.pkl']"
            ]
          },
          "execution_count": 228,
          "metadata": {},
          "output_type": "execute_result"
        }
      ],
      "source": [
        "joblib.dump(max_sequence_length, 'max_sequence_length.pkl')"
      ]
    },
    {
      "cell_type": "code",
      "execution_count": 229,
      "metadata": {
        "id": "9DODB0svyseu"
      },
      "outputs": [
        {
          "name": "stderr",
          "output_type": "stream",
          "text": [
            "c:\\Python311\\Lib\\site-packages\\sklearn\\utils\\validation.py:605: FutureWarning: is_sparse is deprecated and will be removed in a future version. Check `isinstance(dtype, pd.SparseDtype)` instead.\n",
            "  if is_sparse(pd_dtype):\n",
            "c:\\Python311\\Lib\\site-packages\\sklearn\\utils\\validation.py:614: FutureWarning: is_sparse is deprecated and will be removed in a future version. Check `isinstance(dtype, pd.SparseDtype)` instead.\n",
            "  if is_sparse(pd_dtype) or not is_extension_array_dtype(pd_dtype):\n",
            "c:\\Python311\\Lib\\site-packages\\sklearn\\utils\\validation.py:605: FutureWarning: is_sparse is deprecated and will be removed in a future version. Check `isinstance(dtype, pd.SparseDtype)` instead.\n",
            "  if is_sparse(pd_dtype):\n",
            "c:\\Python311\\Lib\\site-packages\\sklearn\\utils\\validation.py:614: FutureWarning: is_sparse is deprecated and will be removed in a future version. Check `isinstance(dtype, pd.SparseDtype)` instead.\n",
            "  if is_sparse(pd_dtype) or not is_extension_array_dtype(pd_dtype):\n"
          ]
        }
      ],
      "source": [
        "# Combine tags from train_data and test_data\n",
        "all_tags = list(set(train_data['tags']) | set(test_data['tags']))\n",
        "\n",
        "# Encoding the outputs\n",
        "le = LabelEncoder()\n",
        "le.fit(all_tags)\n",
        "\n",
        "y_train = le.transform(train_data['tags'])\n",
        "y_test = le.transform(test_data['tags'])"
      ]
    },
    {
      "cell_type": "code",
      "execution_count": 230,
      "metadata": {},
      "outputs": [
        {
          "data": {
            "text/plain": [
              "['le.pkl']"
            ]
          },
          "execution_count": 230,
          "metadata": {},
          "output_type": "execute_result"
        }
      ],
      "source": [
        "joblib.dump(le, 'le.pkl')"
      ]
    },
    {
      "cell_type": "code",
      "execution_count": 231,
      "metadata": {
        "id": "pBSWgeHhyu42"
      },
      "outputs": [],
      "source": [
        "# Splitting the dataset\n",
        "train_dataset = (x_train, y_train)\n",
        "test_dataset = (x_test, y_test)"
      ]
    },
    {
      "cell_type": "code",
      "execution_count": 232,
      "metadata": {
        "id": "AQrfnYeMyw8I"
      },
      "outputs": [
        {
          "name": "stdout",
          "output_type": "stream",
          "text": [
            "Model: \"model_7\"\n",
            "_________________________________________________________________\n",
            " Layer (type)                Output Shape              Param #   \n",
            "=================================================================\n",
            " input_8 (InputLayer)        [(None, 10)]              0         \n",
            "                                                                 \n",
            " embedding_7 (Embedding)     (None, 10, 100)           17500     \n",
            "                                                                 \n",
            " bidirectional_14 (Bidirecti  (None, 10, 64)           34048     \n",
            " onal)                                                           \n",
            "                                                                 \n",
            " bidirectional_15 (Bidirecti  (None, 10, 128)          49920     \n",
            " onal)                                                           \n",
            "                                                                 \n",
            " flatten_7 (Flatten)         (None, 1280)              0         \n",
            "                                                                 \n",
            " dense_14 (Dense)            (None, 50)                64050     \n",
            "                                                                 \n",
            " dropout_7 (Dropout)         (None, 50)                0         \n",
            "                                                                 \n",
            " dense_15 (Dense)            (None, 59)                3009      \n",
            "                                                                 \n",
            "=================================================================\n",
            "Total params: 168,527\n",
            "Trainable params: 168,527\n",
            "Non-trainable params: 0\n",
            "_________________________________________________________________\n"
          ]
        }
      ],
      "source": [
        "# Creating the model\n",
        "# Menambahkan regularisasi L2\n",
        "regularization = regularizers.l2(0.01)\n",
        "\n",
        "# Mengubah tingkat dropout menjadi 0.4\n",
        "dropout_rate = 0.5\n",
        "\n",
        "# Mendefinisikan input layer\n",
        "i = Input(shape=(max_sequence_length,))\n",
        "\n",
        "# Embedding layer\n",
        "embedding_size = 100\n",
        "x = Embedding(len(tokenizer.word_index) + 1, embedding_size)(i)\n",
        "\n",
        "# Bidirectional LSTM layer\n",
        "lstm_units = 32\n",
        "x = Bidirectional(LSTM(lstm_units, return_sequences=True))(x)\n",
        "\n",
        "# Bidirectional GRU layer\n",
        "gru_units = 64\n",
        "x = Bidirectional(GRU(gru_units, return_sequences=True))(x)\n",
        "\n",
        "# Flatten layer\n",
        "x = Flatten()(x)\n",
        "\n",
        "# Dense layer with L2 regularization\n",
        "dense_units = 50\n",
        "x = Dense(dense_units, activation='relu', kernel_regularizer=regularization)(x)\n",
        "x = Dropout(dropout_rate)(x)\n",
        "\n",
        "# Output layer\n",
        "num_classes = len(classes)\n",
        "x = Dense(num_classes, activation=\"softmax\")(x)\n",
        "model = Model(i, x)\n",
        "\n",
        "model.summary()"
      ]
    },
    {
      "cell_type": "code",
      "execution_count": 233,
      "metadata": {
        "id": "gDiz8PXGuRWZ"
      },
      "outputs": [],
      "source": [
        "class myCallback(tf.keras.callbacks.Callback):\n",
        "    # Define the method that checks the accuracy at the end of each epoch\n",
        "    def on_epoch_end(self, epoch, logs={}):\n",
        "        if logs.get('val_accuracy') > 0.98:\n",
        "            print(\"\\nReached 0.7 val acc so cancelling training!\")\n",
        "\n",
        "            # Stop training once the above condition is met\n",
        "            self.model.stop_training = True"
      ]
    },
    {
      "cell_type": "code",
      "execution_count": 234,
      "metadata": {
        "id": "qWpuByizXO5k"
      },
      "outputs": [],
      "source": [
        "# Instantiate the callback class\n",
        "cb = myCallback()"
      ]
    },
    {
      "cell_type": "code",
      "execution_count": 235,
      "metadata": {
        "id": "r-DsQhQ06R3M"
      },
      "outputs": [],
      "source": [
        "learning_rate = 0.001"
      ]
    },
    {
      "cell_type": "code",
      "execution_count": 236,
      "metadata": {
        "id": "FsDZuv9XXLkG"
      },
      "outputs": [],
      "source": [
        "optimizer = Adam(learning_rate=learning_rate)"
      ]
    },
    {
      "cell_type": "code",
      "execution_count": 237,
      "metadata": {
        "id": "WBF2qrzFy0AR"
      },
      "outputs": [],
      "source": [
        "# Compiling the model\n",
        "model.compile(loss=\"sparse_categorical_crossentropy\", optimizer=optimizer, metrics=['accuracy'])"
      ]
    },
    {
      "cell_type": "code",
      "execution_count": 238,
      "metadata": {
        "id": "iBQDyHxZy2Ku"
      },
      "outputs": [
        {
          "name": "stdout",
          "output_type": "stream",
          "text": [
            "Epoch 1/200\n"
          ]
        },
        {
          "name": "stdout",
          "output_type": "stream",
          "text": [
            "15/15 [==============================] - 27s 371ms/step - loss: 4.7918 - accuracy: 0.0304 - val_loss: 4.5545 - val_accuracy: 0.0933\n",
            "Epoch 2/200\n",
            "15/15 [==============================] - 1s 55ms/step - loss: 4.4128 - accuracy: 0.0372 - val_loss: 4.2844 - val_accuracy: 0.0800\n",
            "Epoch 3/200\n",
            "15/15 [==============================] - 1s 53ms/step - loss: 4.2035 - accuracy: 0.0574 - val_loss: 4.1692 - val_accuracy: 0.0800\n",
            "Epoch 4/200\n",
            "15/15 [==============================] - 1s 57ms/step - loss: 4.0991 - accuracy: 0.0574 - val_loss: 4.1028 - val_accuracy: 0.0800\n",
            "Epoch 5/200\n",
            "15/15 [==============================] - 1s 55ms/step - loss: 3.9791 - accuracy: 0.0473 - val_loss: 3.9351 - val_accuracy: 0.0933\n",
            "Epoch 6/200\n",
            "15/15 [==============================] - 1s 56ms/step - loss: 3.7807 - accuracy: 0.0676 - val_loss: 3.7562 - val_accuracy: 0.0933\n",
            "Epoch 7/200\n",
            "15/15 [==============================] - 1s 62ms/step - loss: 3.6093 - accuracy: 0.1014 - val_loss: 3.6299 - val_accuracy: 0.0533\n",
            "Epoch 8/200\n",
            "15/15 [==============================] - 1s 52ms/step - loss: 3.4319 - accuracy: 0.1047 - val_loss: 3.5287 - val_accuracy: 0.0400\n",
            "Epoch 9/200\n",
            "15/15 [==============================] - 1s 68ms/step - loss: 3.3140 - accuracy: 0.1419 - val_loss: 3.5031 - val_accuracy: 0.1067\n",
            "Epoch 10/200\n",
            "15/15 [==============================] - 1s 52ms/step - loss: 3.2645 - accuracy: 0.1318 - val_loss: 3.4418 - val_accuracy: 0.0933\n",
            "Epoch 11/200\n",
            "15/15 [==============================] - 1s 50ms/step - loss: 3.1867 - accuracy: 0.1216 - val_loss: 3.3517 - val_accuracy: 0.1600\n",
            "Epoch 12/200\n",
            "15/15 [==============================] - 1s 50ms/step - loss: 3.0616 - accuracy: 0.1757 - val_loss: 3.2663 - val_accuracy: 0.0667\n",
            "Epoch 13/200\n",
            "15/15 [==============================] - 1s 51ms/step - loss: 2.9579 - accuracy: 0.1689 - val_loss: 3.1719 - val_accuracy: 0.1733\n",
            "Epoch 14/200\n",
            "15/15 [==============================] - 1s 51ms/step - loss: 2.8232 - accuracy: 0.2230 - val_loss: 3.0653 - val_accuracy: 0.1867\n",
            "Epoch 15/200\n",
            "15/15 [==============================] - 1s 51ms/step - loss: 2.7498 - accuracy: 0.2399 - val_loss: 3.0758 - val_accuracy: 0.1600\n",
            "Epoch 16/200\n",
            "15/15 [==============================] - 1s 53ms/step - loss: 2.6228 - accuracy: 0.2669 - val_loss: 3.0160 - val_accuracy: 0.1733\n",
            "Epoch 17/200\n",
            "15/15 [==============================] - 1s 52ms/step - loss: 2.7157 - accuracy: 0.2432 - val_loss: 2.9425 - val_accuracy: 0.2267\n",
            "Epoch 18/200\n",
            "15/15 [==============================] - 1s 52ms/step - loss: 2.5159 - accuracy: 0.2770 - val_loss: 2.7863 - val_accuracy: 0.2133\n",
            "Epoch 19/200\n",
            "15/15 [==============================] - 1s 52ms/step - loss: 2.4365 - accuracy: 0.2939 - val_loss: 2.8111 - val_accuracy: 0.2533\n",
            "Epoch 20/200\n",
            "15/15 [==============================] - 1s 51ms/step - loss: 2.4223 - accuracy: 0.3176 - val_loss: 2.7590 - val_accuracy: 0.3067\n",
            "Epoch 21/200\n",
            "15/15 [==============================] - 1s 52ms/step - loss: 2.3050 - accuracy: 0.3311 - val_loss: 2.5753 - val_accuracy: 0.2800\n",
            "Epoch 22/200\n",
            "15/15 [==============================] - 1s 53ms/step - loss: 2.1497 - accuracy: 0.3682 - val_loss: 2.6048 - val_accuracy: 0.3200\n",
            "Epoch 23/200\n",
            "15/15 [==============================] - 1s 51ms/step - loss: 2.1689 - accuracy: 0.3649 - val_loss: 2.4628 - val_accuracy: 0.3467\n",
            "Epoch 24/200\n",
            "15/15 [==============================] - 1s 51ms/step - loss: 2.0080 - accuracy: 0.4324 - val_loss: 2.5216 - val_accuracy: 0.2933\n",
            "Epoch 25/200\n",
            "15/15 [==============================] - 1s 51ms/step - loss: 1.8505 - accuracy: 0.4426 - val_loss: 2.3321 - val_accuracy: 0.4000\n",
            "Epoch 26/200\n",
            "15/15 [==============================] - 1s 52ms/step - loss: 1.8772 - accuracy: 0.4392 - val_loss: 2.1780 - val_accuracy: 0.4533\n",
            "Epoch 27/200\n",
            "15/15 [==============================] - 1s 51ms/step - loss: 1.9127 - accuracy: 0.4527 - val_loss: 2.2443 - val_accuracy: 0.3600\n",
            "Epoch 28/200\n",
            "15/15 [==============================] - 1s 56ms/step - loss: 1.7681 - accuracy: 0.4899 - val_loss: 2.2554 - val_accuracy: 0.4267\n",
            "Epoch 29/200\n",
            "15/15 [==============================] - 1s 51ms/step - loss: 1.7280 - accuracy: 0.5034 - val_loss: 2.2336 - val_accuracy: 0.4000\n",
            "Epoch 30/200\n",
            "15/15 [==============================] - 1s 51ms/step - loss: 1.6685 - accuracy: 0.5372 - val_loss: 2.1054 - val_accuracy: 0.4400\n",
            "Epoch 31/200\n",
            "15/15 [==============================] - 1s 51ms/step - loss: 1.6340 - accuracy: 0.5541 - val_loss: 1.9726 - val_accuracy: 0.5200\n",
            "Epoch 32/200\n",
            "15/15 [==============================] - 1s 50ms/step - loss: 1.5535 - accuracy: 0.5574 - val_loss: 2.0490 - val_accuracy: 0.5067\n",
            "Epoch 33/200\n",
            "15/15 [==============================] - 1s 51ms/step - loss: 1.5949 - accuracy: 0.5338 - val_loss: 2.1655 - val_accuracy: 0.4667\n",
            "Epoch 34/200\n",
            "15/15 [==============================] - 1s 54ms/step - loss: 1.4681 - accuracy: 0.5709 - val_loss: 1.9519 - val_accuracy: 0.5200\n",
            "Epoch 35/200\n",
            "15/15 [==============================] - 1s 54ms/step - loss: 1.4486 - accuracy: 0.5642 - val_loss: 2.0338 - val_accuracy: 0.4400\n",
            "Epoch 36/200\n",
            "15/15 [==============================] - 1s 50ms/step - loss: 1.4473 - accuracy: 0.5743 - val_loss: 1.9500 - val_accuracy: 0.6000\n",
            "Epoch 37/200\n",
            "15/15 [==============================] - 1s 52ms/step - loss: 1.3523 - accuracy: 0.6081 - val_loss: 1.8779 - val_accuracy: 0.5733\n",
            "Epoch 38/200\n",
            "15/15 [==============================] - 1s 51ms/step - loss: 1.3692 - accuracy: 0.6250 - val_loss: 1.8823 - val_accuracy: 0.6000\n",
            "Epoch 39/200\n",
            "15/15 [==============================] - 1s 54ms/step - loss: 1.3218 - accuracy: 0.6588 - val_loss: 1.8240 - val_accuracy: 0.6267\n",
            "Epoch 40/200\n",
            "15/15 [==============================] - 1s 71ms/step - loss: 1.1790 - accuracy: 0.6385 - val_loss: 1.8098 - val_accuracy: 0.5867\n",
            "Epoch 41/200\n",
            "15/15 [==============================] - 1s 53ms/step - loss: 1.1450 - accuracy: 0.6926 - val_loss: 1.7053 - val_accuracy: 0.6267\n",
            "Epoch 42/200\n",
            "15/15 [==============================] - 1s 49ms/step - loss: 1.1481 - accuracy: 0.6858 - val_loss: 1.7345 - val_accuracy: 0.5733\n",
            "Epoch 43/200\n",
            "15/15 [==============================] - 1s 47ms/step - loss: 1.0621 - accuracy: 0.7162 - val_loss: 1.7018 - val_accuracy: 0.6400\n",
            "Epoch 44/200\n",
            "15/15 [==============================] - 1s 47ms/step - loss: 1.0469 - accuracy: 0.6993 - val_loss: 1.7947 - val_accuracy: 0.6000\n",
            "Epoch 45/200\n",
            "15/15 [==============================] - 1s 43ms/step - loss: 1.0862 - accuracy: 0.7027 - val_loss: 1.7687 - val_accuracy: 0.6133\n",
            "Epoch 46/200\n",
            "15/15 [==============================] - 1s 57ms/step - loss: 0.9874 - accuracy: 0.7432 - val_loss: 1.5981 - val_accuracy: 0.6400\n",
            "Epoch 47/200\n",
            "15/15 [==============================] - 1s 53ms/step - loss: 1.0535 - accuracy: 0.7095 - val_loss: 1.4921 - val_accuracy: 0.6800\n",
            "Epoch 48/200\n",
            "15/15 [==============================] - 1s 51ms/step - loss: 0.9423 - accuracy: 0.7466 - val_loss: 1.6503 - val_accuracy: 0.6667\n",
            "Epoch 49/200\n",
            "15/15 [==============================] - 1s 51ms/step - loss: 0.8665 - accuracy: 0.7703 - val_loss: 1.5767 - val_accuracy: 0.6400\n",
            "Epoch 50/200\n",
            "15/15 [==============================] - 1s 50ms/step - loss: 0.9183 - accuracy: 0.7736 - val_loss: 1.6794 - val_accuracy: 0.6667\n",
            "Epoch 51/200\n",
            "15/15 [==============================] - 1s 53ms/step - loss: 0.9102 - accuracy: 0.7770 - val_loss: 1.5208 - val_accuracy: 0.6400\n",
            "Epoch 52/200\n",
            "15/15 [==============================] - 1s 52ms/step - loss: 0.8996 - accuracy: 0.7568 - val_loss: 1.5477 - val_accuracy: 0.7200\n",
            "Epoch 53/200\n",
            "15/15 [==============================] - 1s 53ms/step - loss: 0.8705 - accuracy: 0.7635 - val_loss: 1.5464 - val_accuracy: 0.6533\n",
            "Epoch 54/200\n",
            "15/15 [==============================] - 1s 51ms/step - loss: 0.8541 - accuracy: 0.7703 - val_loss: 1.5547 - val_accuracy: 0.6933\n",
            "Epoch 55/200\n",
            "15/15 [==============================] - 1s 51ms/step - loss: 0.8604 - accuracy: 0.8041 - val_loss: 1.5376 - val_accuracy: 0.7333\n",
            "Epoch 56/200\n",
            "15/15 [==============================] - 1s 51ms/step - loss: 0.7712 - accuracy: 0.7973 - val_loss: 1.5276 - val_accuracy: 0.7467\n",
            "Epoch 57/200\n",
            "15/15 [==============================] - 1s 51ms/step - loss: 0.8655 - accuracy: 0.7568 - val_loss: 1.5875 - val_accuracy: 0.7067\n",
            "Epoch 58/200\n",
            "15/15 [==============================] - 1s 51ms/step - loss: 0.7491 - accuracy: 0.8142 - val_loss: 1.6266 - val_accuracy: 0.7600\n",
            "Epoch 59/200\n",
            "15/15 [==============================] - 1s 56ms/step - loss: 0.7303 - accuracy: 0.8311 - val_loss: 1.7412 - val_accuracy: 0.7067\n",
            "Epoch 60/200\n",
            "15/15 [==============================] - 1s 51ms/step - loss: 0.8043 - accuracy: 0.7872 - val_loss: 1.7670 - val_accuracy: 0.7067\n",
            "Epoch 61/200\n",
            "15/15 [==============================] - 1s 52ms/step - loss: 0.7130 - accuracy: 0.8378 - val_loss: 1.6272 - val_accuracy: 0.7333\n",
            "Epoch 62/200\n",
            "15/15 [==============================] - 1s 52ms/step - loss: 0.7248 - accuracy: 0.8311 - val_loss: 1.6019 - val_accuracy: 0.7067\n",
            "Epoch 63/200\n",
            "15/15 [==============================] - 1s 52ms/step - loss: 0.7237 - accuracy: 0.8209 - val_loss: 1.4043 - val_accuracy: 0.7467\n",
            "Epoch 64/200\n",
            "15/15 [==============================] - 1s 51ms/step - loss: 0.6554 - accuracy: 0.8615 - val_loss: 1.5465 - val_accuracy: 0.7333\n",
            "Epoch 65/200\n",
            "15/15 [==============================] - 1s 51ms/step - loss: 0.6770 - accuracy: 0.8547 - val_loss: 1.5227 - val_accuracy: 0.7067\n",
            "Epoch 66/200\n",
            "15/15 [==============================] - 1s 53ms/step - loss: 0.7546 - accuracy: 0.8378 - val_loss: 1.5329 - val_accuracy: 0.7067\n",
            "Epoch 67/200\n",
            "15/15 [==============================] - 1s 71ms/step - loss: 0.6888 - accuracy: 0.8480 - val_loss: 1.4939 - val_accuracy: 0.7600\n",
            "Epoch 68/200\n",
            "15/15 [==============================] - 1s 51ms/step - loss: 0.6208 - accuracy: 0.8547 - val_loss: 1.4956 - val_accuracy: 0.7733\n",
            "Epoch 69/200\n",
            "15/15 [==============================] - 1s 55ms/step - loss: 0.5793 - accuracy: 0.8581 - val_loss: 1.4192 - val_accuracy: 0.7200\n",
            "Epoch 70/200\n",
            "15/15 [==============================] - 1s 51ms/step - loss: 0.6625 - accuracy: 0.8412 - val_loss: 1.5313 - val_accuracy: 0.7200\n",
            "Epoch 71/200\n",
            "15/15 [==============================] - 1s 52ms/step - loss: 0.6828 - accuracy: 0.8345 - val_loss: 1.5180 - val_accuracy: 0.7600\n",
            "Epoch 72/200\n",
            "15/15 [==============================] - 1s 52ms/step - loss: 0.6010 - accuracy: 0.8818 - val_loss: 1.4278 - val_accuracy: 0.7867\n",
            "Epoch 73/200\n",
            "15/15 [==============================] - 1s 51ms/step - loss: 0.6662 - accuracy: 0.8446 - val_loss: 1.6809 - val_accuracy: 0.7200\n",
            "Epoch 74/200\n",
            "15/15 [==============================] - 1s 51ms/step - loss: 0.6589 - accuracy: 0.8446 - val_loss: 1.4795 - val_accuracy: 0.7333\n",
            "Epoch 75/200\n",
            "15/15 [==============================] - 1s 52ms/step - loss: 0.6243 - accuracy: 0.8649 - val_loss: 1.5264 - val_accuracy: 0.7467\n",
            "Epoch 76/200\n",
            "15/15 [==============================] - 1s 50ms/step - loss: 0.6328 - accuracy: 0.8480 - val_loss: 1.3809 - val_accuracy: 0.7867\n",
            "Epoch 77/200\n",
            "15/15 [==============================] - 1s 52ms/step - loss: 0.5731 - accuracy: 0.8784 - val_loss: 1.5632 - val_accuracy: 0.7067\n",
            "Epoch 78/200\n",
            "15/15 [==============================] - 1s 53ms/step - loss: 0.5912 - accuracy: 0.8682 - val_loss: 1.5673 - val_accuracy: 0.7467\n",
            "Epoch 79/200\n",
            "15/15 [==============================] - 1s 58ms/step - loss: 0.5362 - accuracy: 0.8885 - val_loss: 1.4085 - val_accuracy: 0.7600\n",
            "Epoch 80/200\n",
            "15/15 [==============================] - 1s 53ms/step - loss: 0.5485 - accuracy: 0.8919 - val_loss: 1.5274 - val_accuracy: 0.7600\n",
            "Epoch 81/200\n",
            "15/15 [==============================] - 1s 51ms/step - loss: 0.5146 - accuracy: 0.8986 - val_loss: 1.5088 - val_accuracy: 0.7867\n",
            "Epoch 82/200\n",
            "15/15 [==============================] - 1s 51ms/step - loss: 0.5237 - accuracy: 0.9088 - val_loss: 1.5541 - val_accuracy: 0.7200\n",
            "Epoch 83/200\n",
            "15/15 [==============================] - 1s 51ms/step - loss: 0.5573 - accuracy: 0.8818 - val_loss: 1.5260 - val_accuracy: 0.7600\n",
            "Epoch 84/200\n",
            "15/15 [==============================] - 1s 51ms/step - loss: 0.5280 - accuracy: 0.8885 - val_loss: 1.3152 - val_accuracy: 0.7733\n",
            "Epoch 85/200\n",
            "15/15 [==============================] - 1s 55ms/step - loss: 0.4933 - accuracy: 0.9155 - val_loss: 1.4205 - val_accuracy: 0.7600\n",
            "Epoch 86/200\n",
            "15/15 [==============================] - 1s 51ms/step - loss: 0.5415 - accuracy: 0.8885 - val_loss: 1.4707 - val_accuracy: 0.7200\n",
            "Epoch 87/200\n",
            "15/15 [==============================] - 1s 51ms/step - loss: 0.6026 - accuracy: 0.8514 - val_loss: 1.4750 - val_accuracy: 0.7200\n",
            "Epoch 88/200\n",
            "15/15 [==============================] - 1s 52ms/step - loss: 0.5785 - accuracy: 0.8581 - val_loss: 1.6911 - val_accuracy: 0.7067\n",
            "Epoch 89/200\n",
            "15/15 [==============================] - 1s 57ms/step - loss: 0.5790 - accuracy: 0.8750 - val_loss: 1.6827 - val_accuracy: 0.7200\n",
            "Epoch 90/200\n",
            "15/15 [==============================] - 1s 51ms/step - loss: 0.5272 - accuracy: 0.8716 - val_loss: 1.5084 - val_accuracy: 0.7600\n",
            "Epoch 91/200\n",
            "15/15 [==============================] - 1s 53ms/step - loss: 0.5926 - accuracy: 0.8649 - val_loss: 1.5040 - val_accuracy: 0.7467\n",
            "Epoch 92/200\n",
            "15/15 [==============================] - 1s 51ms/step - loss: 0.5138 - accuracy: 0.8919 - val_loss: 1.3358 - val_accuracy: 0.7867\n",
            "Epoch 93/200\n",
            "15/15 [==============================] - 1s 51ms/step - loss: 0.4592 - accuracy: 0.9054 - val_loss: 1.5715 - val_accuracy: 0.7333\n",
            "Epoch 94/200\n",
            "15/15 [==============================] - 1s 51ms/step - loss: 0.4796 - accuracy: 0.9054 - val_loss: 1.4451 - val_accuracy: 0.7600\n",
            "Epoch 95/200\n",
            "15/15 [==============================] - 1s 51ms/step - loss: 0.4468 - accuracy: 0.9324 - val_loss: 1.4676 - val_accuracy: 0.7600\n",
            "Epoch 96/200\n",
            "15/15 [==============================] - 1s 62ms/step - loss: 0.4724 - accuracy: 0.9257 - val_loss: 1.5987 - val_accuracy: 0.7467\n",
            "Epoch 97/200\n",
            "15/15 [==============================] - 1s 52ms/step - loss: 0.4359 - accuracy: 0.9155 - val_loss: 1.6060 - val_accuracy: 0.7333\n",
            "Epoch 98/200\n",
            "15/15 [==============================] - 1s 51ms/step - loss: 0.4643 - accuracy: 0.8986 - val_loss: 1.5258 - val_accuracy: 0.7333\n",
            "Epoch 99/200\n",
            "15/15 [==============================] - 1s 68ms/step - loss: 0.4906 - accuracy: 0.8851 - val_loss: 1.5341 - val_accuracy: 0.7467\n",
            "Epoch 100/200\n",
            "15/15 [==============================] - 1s 51ms/step - loss: 0.4415 - accuracy: 0.9223 - val_loss: 1.6640 - val_accuracy: 0.7467\n",
            "Epoch 101/200\n",
            "15/15 [==============================] - 1s 51ms/step - loss: 0.4605 - accuracy: 0.8986 - val_loss: 1.6934 - val_accuracy: 0.7467\n",
            "Epoch 102/200\n",
            "15/15 [==============================] - 1s 52ms/step - loss: 0.4554 - accuracy: 0.9189 - val_loss: 1.6440 - val_accuracy: 0.7600\n",
            "Epoch 103/200\n",
            "15/15 [==============================] - 1s 51ms/step - loss: 0.4423 - accuracy: 0.9020 - val_loss: 1.6005 - val_accuracy: 0.7333\n",
            "Epoch 104/200\n",
            "15/15 [==============================] - 1s 52ms/step - loss: 0.4407 - accuracy: 0.9223 - val_loss: 1.5120 - val_accuracy: 0.7467\n",
            "Epoch 105/200\n",
            "15/15 [==============================] - 1s 52ms/step - loss: 0.4494 - accuracy: 0.9088 - val_loss: 1.6094 - val_accuracy: 0.7600\n",
            "Epoch 106/200\n",
            "15/15 [==============================] - 1s 58ms/step - loss: 0.4947 - accuracy: 0.8953 - val_loss: 1.6349 - val_accuracy: 0.7600\n",
            "Epoch 107/200\n",
            "15/15 [==============================] - 1s 52ms/step - loss: 0.3664 - accuracy: 0.9527 - val_loss: 1.6091 - val_accuracy: 0.7600\n",
            "Epoch 108/200\n",
            "15/15 [==============================] - 1s 53ms/step - loss: 0.4397 - accuracy: 0.8986 - val_loss: 1.6200 - val_accuracy: 0.7333\n",
            "Epoch 109/200\n",
            "15/15 [==============================] - 1s 52ms/step - loss: 0.4449 - accuracy: 0.9020 - val_loss: 1.6026 - val_accuracy: 0.7600\n",
            "Epoch 110/200\n",
            "15/15 [==============================] - 1s 53ms/step - loss: 0.4504 - accuracy: 0.9054 - val_loss: 1.4731 - val_accuracy: 0.7467\n",
            "Epoch 111/200\n",
            "15/15 [==============================] - 1s 50ms/step - loss: 0.3865 - accuracy: 0.9426 - val_loss: 1.4653 - val_accuracy: 0.7333\n",
            "Epoch 112/200\n",
            "15/15 [==============================] - 1s 52ms/step - loss: 0.5013 - accuracy: 0.9088 - val_loss: 1.6631 - val_accuracy: 0.7333\n",
            "Epoch 113/200\n",
            "15/15 [==============================] - 1s 52ms/step - loss: 0.4613 - accuracy: 0.9054 - val_loss: 1.6530 - val_accuracy: 0.7467\n",
            "Epoch 114/200\n",
            "15/15 [==============================] - 1s 56ms/step - loss: 0.4228 - accuracy: 0.9189 - val_loss: 1.5592 - val_accuracy: 0.7600\n",
            "Epoch 115/200\n",
            "15/15 [==============================] - 1s 52ms/step - loss: 0.4466 - accuracy: 0.9223 - val_loss: 1.4625 - val_accuracy: 0.8000\n",
            "Epoch 116/200\n",
            "15/15 [==============================] - 1s 52ms/step - loss: 0.4358 - accuracy: 0.9020 - val_loss: 1.5501 - val_accuracy: 0.8000\n",
            "Epoch 117/200\n",
            "15/15 [==============================] - 1s 53ms/step - loss: 0.4360 - accuracy: 0.9189 - val_loss: 1.3864 - val_accuracy: 0.8000\n",
            "Epoch 118/200\n",
            "15/15 [==============================] - 1s 52ms/step - loss: 0.3819 - accuracy: 0.9189 - val_loss: 1.6523 - val_accuracy: 0.7333\n",
            "Epoch 119/200\n",
            "15/15 [==============================] - 1s 54ms/step - loss: 0.4303 - accuracy: 0.9020 - val_loss: 1.5281 - val_accuracy: 0.7333\n",
            "Epoch 120/200\n",
            "15/15 [==============================] - 1s 50ms/step - loss: 0.4350 - accuracy: 0.9122 - val_loss: 1.7411 - val_accuracy: 0.7200\n",
            "Epoch 121/200\n",
            "15/15 [==============================] - 1s 50ms/step - loss: 0.4362 - accuracy: 0.9020 - val_loss: 1.5021 - val_accuracy: 0.7733\n",
            "Epoch 122/200\n",
            "15/15 [==============================] - 1s 50ms/step - loss: 0.4351 - accuracy: 0.9088 - val_loss: 1.6692 - val_accuracy: 0.7600\n",
            "Epoch 123/200\n",
            "15/15 [==============================] - 1s 58ms/step - loss: 0.4131 - accuracy: 0.9054 - val_loss: 1.6504 - val_accuracy: 0.7600\n",
            "Epoch 124/200\n",
            "15/15 [==============================] - 1s 51ms/step - loss: 0.4407 - accuracy: 0.9020 - val_loss: 1.7035 - val_accuracy: 0.7733\n",
            "Epoch 125/200\n",
            "15/15 [==============================] - 1s 51ms/step - loss: 0.4148 - accuracy: 0.9324 - val_loss: 1.6400 - val_accuracy: 0.7733\n",
            "Epoch 126/200\n",
            "15/15 [==============================] - 1s 50ms/step - loss: 0.4105 - accuracy: 0.9291 - val_loss: 1.4712 - val_accuracy: 0.7733\n",
            "Epoch 127/200\n",
            "15/15 [==============================] - 1s 50ms/step - loss: 0.4288 - accuracy: 0.9122 - val_loss: 1.4846 - val_accuracy: 0.7733\n",
            "Epoch 128/200\n",
            "15/15 [==============================] - 1s 52ms/step - loss: 0.4488 - accuracy: 0.9122 - val_loss: 1.6821 - val_accuracy: 0.7333\n",
            "Epoch 129/200\n",
            "15/15 [==============================] - 1s 71ms/step - loss: 0.4278 - accuracy: 0.8953 - val_loss: 1.5383 - val_accuracy: 0.7600\n",
            "Epoch 130/200\n",
            "15/15 [==============================] - 1s 54ms/step - loss: 0.4287 - accuracy: 0.9189 - val_loss: 1.5848 - val_accuracy: 0.7600\n",
            "Epoch 131/200\n",
            "15/15 [==============================] - 1s 57ms/step - loss: 0.3590 - accuracy: 0.9459 - val_loss: 1.4968 - val_accuracy: 0.7867\n",
            "Epoch 132/200\n",
            "15/15 [==============================] - 1s 44ms/step - loss: 0.3970 - accuracy: 0.9324 - val_loss: 1.6647 - val_accuracy: 0.7467\n",
            "Epoch 133/200\n",
            "15/15 [==============================] - 1s 47ms/step - loss: 0.3944 - accuracy: 0.9257 - val_loss: 1.7275 - val_accuracy: 0.7333\n",
            "Epoch 134/200\n",
            "15/15 [==============================] - 1s 51ms/step - loss: 0.3865 - accuracy: 0.9122 - val_loss: 1.7058 - val_accuracy: 0.7467\n",
            "Epoch 135/200\n",
            "15/15 [==============================] - 1s 55ms/step - loss: 0.3876 - accuracy: 0.9155 - val_loss: 1.6311 - val_accuracy: 0.7200\n",
            "Epoch 136/200\n",
            "15/15 [==============================] - 1s 53ms/step - loss: 0.4199 - accuracy: 0.9054 - val_loss: 1.4850 - val_accuracy: 0.8000\n",
            "Epoch 137/200\n",
            "15/15 [==============================] - 1s 53ms/step - loss: 0.4064 - accuracy: 0.9122 - val_loss: 1.6467 - val_accuracy: 0.7600\n",
            "Epoch 138/200\n",
            "15/15 [==============================] - 1s 51ms/step - loss: 0.3811 - accuracy: 0.9155 - val_loss: 1.7471 - val_accuracy: 0.7200\n",
            "Epoch 139/200\n",
            "15/15 [==============================] - 1s 57ms/step - loss: 0.4077 - accuracy: 0.9257 - val_loss: 1.5768 - val_accuracy: 0.7733\n",
            "Epoch 140/200\n",
            "15/15 [==============================] - 1s 51ms/step - loss: 0.4075 - accuracy: 0.8953 - val_loss: 1.4482 - val_accuracy: 0.7867\n",
            "Epoch 141/200\n",
            "15/15 [==============================] - 1s 51ms/step - loss: 0.4159 - accuracy: 0.9257 - val_loss: 1.4038 - val_accuracy: 0.8000\n",
            "Epoch 142/200\n",
            "15/15 [==============================] - 1s 52ms/step - loss: 0.3708 - accuracy: 0.9392 - val_loss: 1.6323 - val_accuracy: 0.7867\n",
            "Epoch 143/200\n",
            "15/15 [==============================] - 1s 51ms/step - loss: 0.4012 - accuracy: 0.9189 - val_loss: 1.5399 - val_accuracy: 0.7733\n",
            "Epoch 144/200\n",
            "15/15 [==============================] - 1s 52ms/step - loss: 0.4038 - accuracy: 0.9223 - val_loss: 1.6610 - val_accuracy: 0.7733\n",
            "Epoch 145/200\n",
            "15/15 [==============================] - 1s 51ms/step - loss: 0.3410 - accuracy: 0.9459 - val_loss: 1.4636 - val_accuracy: 0.7867\n",
            "Epoch 146/200\n",
            "15/15 [==============================] - 1s 50ms/step - loss: 0.3976 - accuracy: 0.9189 - val_loss: 1.5710 - val_accuracy: 0.7867\n",
            "Epoch 147/200\n",
            "15/15 [==============================] - 1s 55ms/step - loss: 0.4098 - accuracy: 0.9358 - val_loss: 1.5448 - val_accuracy: 0.7733\n",
            "Epoch 148/200\n",
            "15/15 [==============================] - 1s 52ms/step - loss: 0.3810 - accuracy: 0.9189 - val_loss: 1.5611 - val_accuracy: 0.7733\n",
            "Epoch 149/200\n",
            "15/15 [==============================] - 1s 51ms/step - loss: 0.3553 - accuracy: 0.9223 - val_loss: 1.6320 - val_accuracy: 0.7600\n",
            "Epoch 150/200\n",
            "15/15 [==============================] - 1s 51ms/step - loss: 0.4223 - accuracy: 0.8885 - val_loss: 1.5372 - val_accuracy: 0.8000\n",
            "Epoch 151/200\n",
            "15/15 [==============================] - 1s 50ms/step - loss: 0.3729 - accuracy: 0.9257 - val_loss: 1.5557 - val_accuracy: 0.7733\n",
            "Epoch 152/200\n",
            "15/15 [==============================] - 1s 51ms/step - loss: 0.3380 - accuracy: 0.9493 - val_loss: 1.7141 - val_accuracy: 0.7733\n",
            "Epoch 153/200\n",
            "15/15 [==============================] - 1s 50ms/step - loss: 0.3644 - accuracy: 0.9223 - val_loss: 1.7783 - val_accuracy: 0.7600\n",
            "Epoch 154/200\n",
            "15/15 [==============================] - 1s 51ms/step - loss: 0.4032 - accuracy: 0.9223 - val_loss: 1.7681 - val_accuracy: 0.7733\n",
            "Epoch 155/200\n",
            "15/15 [==============================] - 1s 56ms/step - loss: 0.3809 - accuracy: 0.9358 - val_loss: 1.8188 - val_accuracy: 0.7467\n",
            "Epoch 156/200\n",
            "15/15 [==============================] - 1s 53ms/step - loss: 0.3453 - accuracy: 0.9324 - val_loss: 1.6718 - val_accuracy: 0.7733\n",
            "Epoch 157/200\n",
            "15/15 [==============================] - 1s 53ms/step - loss: 0.3890 - accuracy: 0.9189 - val_loss: 1.8457 - val_accuracy: 0.6800\n",
            "Epoch 158/200\n",
            "15/15 [==============================] - 1s 51ms/step - loss: 0.3750 - accuracy: 0.9257 - val_loss: 1.7949 - val_accuracy: 0.7600\n",
            "Epoch 159/200\n",
            "15/15 [==============================] - 1s 56ms/step - loss: 0.3739 - accuracy: 0.9358 - val_loss: 1.7146 - val_accuracy: 0.7733\n",
            "Epoch 160/200\n",
            "15/15 [==============================] - 1s 51ms/step - loss: 0.4360 - accuracy: 0.8953 - val_loss: 1.5622 - val_accuracy: 0.8400\n",
            "Epoch 161/200\n",
            "15/15 [==============================] - 1s 60ms/step - loss: 0.3781 - accuracy: 0.9291 - val_loss: 1.6038 - val_accuracy: 0.8267\n",
            "Epoch 162/200\n",
            "15/15 [==============================] - 1s 61ms/step - loss: 0.3592 - accuracy: 0.9392 - val_loss: 1.3929 - val_accuracy: 0.8133\n",
            "Epoch 163/200\n",
            "15/15 [==============================] - 1s 52ms/step - loss: 0.3616 - accuracy: 0.9257 - val_loss: 1.5151 - val_accuracy: 0.8000\n",
            "Epoch 164/200\n",
            "15/15 [==============================] - 1s 52ms/step - loss: 0.3354 - accuracy: 0.9392 - val_loss: 1.6454 - val_accuracy: 0.7733\n",
            "Epoch 165/200\n",
            "15/15 [==============================] - 1s 51ms/step - loss: 0.3155 - accuracy: 0.9459 - val_loss: 1.5583 - val_accuracy: 0.7867\n",
            "Epoch 166/200\n",
            "15/15 [==============================] - 1s 58ms/step - loss: 0.3368 - accuracy: 0.9392 - val_loss: 1.6274 - val_accuracy: 0.7733\n",
            "Epoch 167/200\n",
            "15/15 [==============================] - 1s 52ms/step - loss: 0.3691 - accuracy: 0.9189 - val_loss: 1.6392 - val_accuracy: 0.7733\n",
            "Epoch 168/200\n",
            "15/15 [==============================] - 1s 53ms/step - loss: 0.3280 - accuracy: 0.9358 - val_loss: 1.7288 - val_accuracy: 0.7867\n",
            "Epoch 169/200\n",
            "15/15 [==============================] - 1s 52ms/step - loss: 0.3070 - accuracy: 0.9561 - val_loss: 1.4928 - val_accuracy: 0.7733\n",
            "Epoch 170/200\n",
            "15/15 [==============================] - 1s 52ms/step - loss: 0.3471 - accuracy: 0.9223 - val_loss: 1.6337 - val_accuracy: 0.7867\n",
            "Epoch 171/200\n",
            "15/15 [==============================] - 1s 50ms/step - loss: 0.3243 - accuracy: 0.9291 - val_loss: 1.3403 - val_accuracy: 0.7867\n",
            "Epoch 172/200\n",
            "15/15 [==============================] - 1s 51ms/step - loss: 0.3083 - accuracy: 0.9459 - val_loss: 1.6114 - val_accuracy: 0.7733\n",
            "Epoch 173/200\n",
            "15/15 [==============================] - 1s 52ms/step - loss: 0.3306 - accuracy: 0.9392 - val_loss: 1.6502 - val_accuracy: 0.7733\n",
            "Epoch 174/200\n",
            "15/15 [==============================] - 1s 58ms/step - loss: 0.3273 - accuracy: 0.9426 - val_loss: 1.6274 - val_accuracy: 0.7600\n",
            "Epoch 175/200\n",
            "15/15 [==============================] - 1s 52ms/step - loss: 0.3265 - accuracy: 0.9392 - val_loss: 1.7046 - val_accuracy: 0.7467\n",
            "Epoch 176/200\n",
            "15/15 [==============================] - 1s 52ms/step - loss: 0.4140 - accuracy: 0.9054 - val_loss: 1.5850 - val_accuracy: 0.7600\n",
            "Epoch 177/200\n",
            "15/15 [==============================] - 1s 51ms/step - loss: 0.3909 - accuracy: 0.9189 - val_loss: 1.6307 - val_accuracy: 0.8000\n",
            "Epoch 178/200\n",
            "15/15 [==============================] - 1s 50ms/step - loss: 0.3987 - accuracy: 0.9291 - val_loss: 1.7854 - val_accuracy: 0.7600\n",
            "Epoch 179/200\n",
            "15/15 [==============================] - 1s 50ms/step - loss: 0.3765 - accuracy: 0.9020 - val_loss: 1.6981 - val_accuracy: 0.7333\n",
            "Epoch 180/200\n",
            "15/15 [==============================] - 1s 54ms/step - loss: 0.4213 - accuracy: 0.9054 - val_loss: 1.6799 - val_accuracy: 0.7600\n",
            "Epoch 181/200\n",
            "15/15 [==============================] - 1s 57ms/step - loss: 0.3773 - accuracy: 0.9088 - val_loss: 1.7893 - val_accuracy: 0.7867\n",
            "Epoch 182/200\n",
            "15/15 [==============================] - 1s 53ms/step - loss: 0.3867 - accuracy: 0.9324 - val_loss: 1.7378 - val_accuracy: 0.7733\n",
            "Epoch 183/200\n",
            "15/15 [==============================] - 1s 52ms/step - loss: 0.3429 - accuracy: 0.9392 - val_loss: 1.6740 - val_accuracy: 0.7600\n",
            "Epoch 184/200\n",
            "15/15 [==============================] - 1s 51ms/step - loss: 0.3440 - accuracy: 0.9459 - val_loss: 1.8882 - val_accuracy: 0.7600\n",
            "Epoch 185/200\n",
            "15/15 [==============================] - 1s 51ms/step - loss: 0.3550 - accuracy: 0.9358 - val_loss: 1.7706 - val_accuracy: 0.7333\n",
            "Epoch 186/200\n",
            "15/15 [==============================] - 1s 53ms/step - loss: 0.3543 - accuracy: 0.9189 - val_loss: 1.6909 - val_accuracy: 0.7600\n",
            "Epoch 187/200\n",
            "15/15 [==============================] - 1s 50ms/step - loss: 0.3620 - accuracy: 0.9122 - val_loss: 1.7348 - val_accuracy: 0.7600\n",
            "Epoch 188/200\n",
            "15/15 [==============================] - 1s 73ms/step - loss: 0.3301 - accuracy: 0.9358 - val_loss: 1.7362 - val_accuracy: 0.7333\n",
            "Epoch 189/200\n",
            "15/15 [==============================] - 1s 52ms/step - loss: 0.3116 - accuracy: 0.9426 - val_loss: 1.7995 - val_accuracy: 0.7467\n",
            "Epoch 190/200\n",
            "15/15 [==============================] - 1s 51ms/step - loss: 0.3274 - accuracy: 0.9324 - val_loss: 1.7245 - val_accuracy: 0.7600\n",
            "Epoch 191/200\n",
            "15/15 [==============================] - 1s 53ms/step - loss: 0.3363 - accuracy: 0.9358 - val_loss: 1.6155 - val_accuracy: 0.8000\n",
            "Epoch 192/200\n",
            "15/15 [==============================] - 1s 53ms/step - loss: 0.3001 - accuracy: 0.9493 - val_loss: 1.5034 - val_accuracy: 0.8400\n",
            "Epoch 193/200\n",
            "15/15 [==============================] - 1s 52ms/step - loss: 0.3100 - accuracy: 0.9527 - val_loss: 1.6385 - val_accuracy: 0.7600\n",
            "Epoch 194/200\n",
            "15/15 [==============================] - 1s 51ms/step - loss: 0.3989 - accuracy: 0.9122 - val_loss: 1.6507 - val_accuracy: 0.7867\n",
            "Epoch 195/200\n",
            "15/15 [==============================] - 1s 59ms/step - loss: 0.3660 - accuracy: 0.9189 - val_loss: 1.4896 - val_accuracy: 0.8133\n",
            "Epoch 196/200\n",
            "15/15 [==============================] - 1s 54ms/step - loss: 0.3366 - accuracy: 0.9324 - val_loss: 1.9843 - val_accuracy: 0.7333\n",
            "Epoch 197/200\n",
            "15/15 [==============================] - 1s 50ms/step - loss: 0.3648 - accuracy: 0.9291 - val_loss: 1.8003 - val_accuracy: 0.7600\n",
            "Epoch 198/200\n",
            "15/15 [==============================] - 1s 50ms/step - loss: 0.2912 - accuracy: 0.9595 - val_loss: 1.9326 - val_accuracy: 0.7733\n",
            "Epoch 199/200\n",
            "15/15 [==============================] - 1s 52ms/step - loss: 0.3033 - accuracy: 0.9561 - val_loss: 2.1268 - val_accuracy: 0.6933\n",
            "Epoch 200/200\n",
            "15/15 [==============================] - 1s 51ms/step - loss: 0.3395 - accuracy: 0.9324 - val_loss: 1.6749 - val_accuracy: 0.8267\n"
          ]
        }
      ],
      "source": [
        "# Training the model\n",
        "history = model.fit(train_dataset[0], train_dataset[1], batch_size = 20, epochs=200, callbacks = [cb], validation_data=test_dataset)"
      ]
    },
    {
      "cell_type": "code",
      "execution_count": 239,
      "metadata": {
        "id": "F_7ARwJF1bc5"
      },
      "outputs": [
        {
          "data": {
            "image/png": "[encoded data removed]",
            "text/plain": [
              "<Figure size 640x480 with 1 Axes>"
            ]
          },
          "metadata": {},
          "output_type": "display_data"
        },
        {
          "data": {
            "image/png": "[encoded data removed]",
            "text/plain": [
              "<Figure size 640x480 with 1 Axes>"
            ]
          },
          "metadata": {},
          "output_type": "display_data"
        }
      ],
      "source": [
        "#diisi dengan plot hasil accuray dan loss training dan testing\n",
        "\n",
        "\n",
        "# Plot utility\n",
        "def plot_graphs(history, string):\n",
        "  plt.plot(history.history[string])\n",
        "  plt.plot(history.history['val_'+string])\n",
        "  plt.xlabel(\"Epochs\")\n",
        "  plt.ylabel(string)\n",
        "  plt.legend([string, 'val_'+string])\n",
        "  plt.show()\n",
        "\n",
        "# Plot the accuracy\n",
        "plot_graphs(history, \"accuracy\")\n",
        "plot_graphs(history, \"loss\")"
      ]
    },
    {
      "cell_type": "code",
      "execution_count": 240,
      "metadata": {
        "id": "RGfHnsuNz50k"
      },
      "outputs": [
        {
          "ename": "KeyboardInterrupt",
          "evalue": "Interrupted by user",
          "output_type": "error",
          "traceback": [
            "\u001b[1;31m---------------------------------------------------------------------------\u001b[0m",
            "\u001b[1;31mKeyboardInterrupt\u001b[0m                         Traceback (most recent call last)",
            "\u001b[1;32md:\\chatbot mental health\\chatbot mental health\\training.ipynb Cell 30\u001b[0m line \u001b[0;36m4\n\u001b[0;32m      <a href='vscode-notebook-cell:/d%3A/chatbot%20mental%20health/chatbot%20mental%20health/training.ipynb#X41sZmlsZQ%3D%3D?line=1'>2</a>\u001b[0m \u001b[39mwhile\u001b[39;00m \u001b[39mTrue\u001b[39;00m:\n\u001b[0;32m      <a href='vscode-notebook-cell:/d%3A/chatbot%20mental%20health/chatbot%20mental%20health/training.ipynb#X41sZmlsZQ%3D%3D?line=2'>3</a>\u001b[0m   texts_p \u001b[39m=\u001b[39m []\n\u001b[1;32m----> <a href='vscode-notebook-cell:/d%3A/chatbot%20mental%20health/chatbot%20mental%20health/training.ipynb#X41sZmlsZQ%3D%3D?line=3'>4</a>\u001b[0m   prediction_input \u001b[39m=\u001b[39m \u001b[39minput\u001b[39;49m(\u001b[39m'\u001b[39;49m\u001b[39m👨‍🦰 Kamu : \u001b[39;49m\u001b[39m'\u001b[39;49m)\n\u001b[0;32m      <a href='vscode-notebook-cell:/d%3A/chatbot%20mental%20health/chatbot%20mental%20health/training.ipynb#X41sZmlsZQ%3D%3D?line=5'>6</a>\u001b[0m   \u001b[39m# Menghapus punktuasi dan konversi ke huruf kecil\u001b[39;00m\n\u001b[0;32m      <a href='vscode-notebook-cell:/d%3A/chatbot%20mental%20health/chatbot%20mental%20health/training.ipynb#X41sZmlsZQ%3D%3D?line=6'>7</a>\u001b[0m   prediction_input \u001b[39m=\u001b[39m [letters\u001b[39m.\u001b[39mlower() \u001b[39mfor\u001b[39;00m letters \u001b[39min\u001b[39;00m prediction_input \u001b[39mif\u001b[39;00m letters \u001b[39mnot\u001b[39;00m \u001b[39min\u001b[39;00m string\u001b[39m.\u001b[39mpunctuation]\n",
            "File \u001b[1;32m~\\AppData\\Roaming\\Python\\Python311\\site-packages\\ipykernel\\kernelbase.py:1251\u001b[0m, in \u001b[0;36mKernel.raw_input\u001b[1;34m(self, prompt)\u001b[0m\n\u001b[0;32m   1249\u001b[0m     msg \u001b[39m=\u001b[39m \u001b[39m\"\u001b[39m\u001b[39mraw_input was called, but this frontend does not support input requests.\u001b[39m\u001b[39m\"\u001b[39m\n\u001b[0;32m   1250\u001b[0m     \u001b[39mraise\u001b[39;00m StdinNotImplementedError(msg)\n\u001b[1;32m-> 1251\u001b[0m \u001b[39mreturn\u001b[39;00m \u001b[39mself\u001b[39;49m\u001b[39m.\u001b[39;49m_input_request(\n\u001b[0;32m   1252\u001b[0m     \u001b[39mstr\u001b[39;49m(prompt),\n\u001b[0;32m   1253\u001b[0m     \u001b[39mself\u001b[39;49m\u001b[39m.\u001b[39;49m_parent_ident[\u001b[39m\"\u001b[39;49m\u001b[39mshell\u001b[39;49m\u001b[39m\"\u001b[39;49m],\n\u001b[0;32m   1254\u001b[0m     \u001b[39mself\u001b[39;49m\u001b[39m.\u001b[39;49mget_parent(\u001b[39m\"\u001b[39;49m\u001b[39mshell\u001b[39;49m\u001b[39m\"\u001b[39;49m),\n\u001b[0;32m   1255\u001b[0m     password\u001b[39m=\u001b[39;49m\u001b[39mFalse\u001b[39;49;00m,\n\u001b[0;32m   1256\u001b[0m )\n",
            "File \u001b[1;32m~\\AppData\\Roaming\\Python\\Python311\\site-packages\\ipykernel\\kernelbase.py:1295\u001b[0m, in \u001b[0;36mKernel._input_request\u001b[1;34m(self, prompt, ident, parent, password)\u001b[0m\n\u001b[0;32m   1292\u001b[0m \u001b[39mexcept\u001b[39;00m \u001b[39mKeyboardInterrupt\u001b[39;00m:\n\u001b[0;32m   1293\u001b[0m     \u001b[39m# re-raise KeyboardInterrupt, to truncate traceback\u001b[39;00m\n\u001b[0;32m   1294\u001b[0m     msg \u001b[39m=\u001b[39m \u001b[39m\"\u001b[39m\u001b[39mInterrupted by user\u001b[39m\u001b[39m\"\u001b[39m\n\u001b[1;32m-> 1295\u001b[0m     \u001b[39mraise\u001b[39;00m \u001b[39mKeyboardInterrupt\u001b[39;00m(msg) \u001b[39mfrom\u001b[39;00m \u001b[39mNone\u001b[39;00m\n\u001b[0;32m   1296\u001b[0m \u001b[39mexcept\u001b[39;00m \u001b[39mException\u001b[39;00m:\n\u001b[0;32m   1297\u001b[0m     \u001b[39mself\u001b[39m\u001b[39m.\u001b[39mlog\u001b[39m.\u001b[39mwarning(\u001b[39m\"\u001b[39m\u001b[39mInvalid Message:\u001b[39m\u001b[39m\"\u001b[39m, exc_info\u001b[39m=\u001b[39m\u001b[39mTrue\u001b[39;00m)\n",
            "\u001b[1;31mKeyboardInterrupt\u001b[0m: Interrupted by user"
          ]
        }
      ],
      "source": [
        "# Membuat Input Chat\n",
        "while True:\n",
        "  texts_p = []\n",
        "  prediction_input = input('👨‍🦰 Kamu : ')\n",
        "\n",
        "  # Menghapus punktuasi dan konversi ke huruf kecil\n",
        "  prediction_input = [letters.lower() for letters in prediction_input if letters not in string.punctuation]\n",
        "  prediction_input = ''.join(prediction_input)\n",
        "  texts_p.append(prediction_input)\n",
        "\n",
        "  # Tokenisasi dan Padding\n",
        "  prediction_input = tokenizer.texts_to_sequences(texts_p)\n",
        "  prediction_input = np.array(prediction_input).reshape(-1)\n",
        "  prediction_input = pad_sequences([prediction_input],max_sequence_length)\n",
        "\n",
        "  # Mendapatkan hasil keluaran pada model\n",
        "  output = model.predict(prediction_input)\n",
        "  output = output.argmax()\n",
        "\n",
        "  # Menemukan respon sesuai data tag\n",
        "  response_tag = le.inverse_transform([output])[0]\n",
        "  print(\"🤖 ChatbotX :\",random.choice(responses[response_tag]))\n",
        "  if response_tag == \"goodbye\":\n",
        "    break"
      ]
    },
    {
      "cell_type": "code",
      "execution_count": null,
      "metadata": {
        "id": "EcbkYO1h1lvG"
      },
      "outputs": [],
      "source": [
        "#save model h5\n",
        "model.save('model.h5')"
      ]
    },
    {
      "cell_type": "code",
      "execution_count": null,
      "metadata": {
        "id": "ETLrhOgAK7Et"
      },
      "outputs": [],
      "source": [
        "# #konversi model h5 ke tflite untuk deployment\n",
        "# # Load the Keras model from the .h5 file\n",
        "# model = tf.keras.models.load_model('model.h5')\n",
        "\n",
        "# # Convert the model to TensorFlow Lite format\n",
        "# converter = tf.lite.TFLiteConverter.from_keras_model(model)\n",
        "# converter.target_spec.supported_ops = [tf.lite.OpsSet.TFLITE_BUILTINS, tf.lite.OpsSet.SELECT_TF_OPS]\n",
        "# converter._experimental_lower_tensor_list_ops = False\n",
        "# tflite_model = converter.convert()\n",
        "\n",
        "# # Save the TensorFlow Lite model to a .tflite file\n",
        "# with open('model.tflite', 'wb') as f:\n",
        "#     f.write(tflite_model)"
      ]
    }
  ],
  "metadata": {
    "colab": {
      "provenance": []
    },
    "kernelspec": {
      "display_name": "Python 3",
      "name": "python3"
    },
    "language_info": {
      "codemirror_mode": {
        "name": "ipython",
        "version": 3
      },
      "file_extension": ".py",
      "mimetype": "text/x-python",
      "name": "python",
      "nbconvert_exporter": "python",
      "pygments_lexer": "ipython3",
      "version": "3.11.4"
    }
  },
  "nbformat": 4,
  "nbformat_minor": 0
}
