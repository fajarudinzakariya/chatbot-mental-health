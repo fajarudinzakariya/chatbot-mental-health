{
  "cells": [
    {
      "cell_type": "code",
      "execution_count": 7,
      "metadata": {},
      "outputs": [],
      "source": [
        "import joblib\n",
        "import random\n",
        "import tensorflow as tf\n",
        "import numpy as np\n",
        "import string\n",
        "from tensorflow.keras.preprocessing.sequence import pad_sequences"
      ]
    },
    {
      "cell_type": "code",
      "execution_count": 9,
      "metadata": {
        "id": "RGfHnsuNz50k"
      },
      "outputs": [
        {
          "name": "stdout",
          "output_type": "stream",
          "text": [
            "1/1 [==============================] - 4s 4s/step\n",
            "🤖 ChatbotX : Helo! Ini Chatbot mental health. Ada yang bisa saya bantu? Silakan berikan pertanyaanmu.\n",
            "1/1 [==============================] - 0s 50ms/step\n",
            "🤖 ChatbotX : Kesehatan mental atau mental health adalah pada keadaan kesejahteraan emosional, psikologis, dan sosial seseorang secara medis. Ini mencakup kemampuan seseorang untuk mengatasi stres, berpikir dengan jernih, berinteraksi dengan orang lain, dan merasakan kebahagiaan. Kesehatan mental yang baik dan penting untuk kualitas hidup yang optimal dalam menjalani kehidupan sehari-hari.\n"
          ]
        }
      ],
      "source": [
        "tokenizer = joblib.load('model/tokenizer.pkl')\n",
        "max_sequence_length = joblib.load('model/max_sequence_length.pkl')\n",
        "model = tf.keras.models.load_model('model/model.h5')\n",
        "le = joblib.load('model/le.pkl')\n",
        "responses = joblib.load('model/responses.pkl')\n",
        "\n",
        "# Membuat Input Chat\n",
        "while True:\n",
        "  texts_p = []\n",
        "  prediction_input = input('👨‍🦰 Kamu : ')\n",
        "  if prediction_input == 'goodbye':\n",
        "    break\n",
        "\n",
        "  # Menghapus punktuasi dan konversi ke huruf kecil\n",
        "  prediction_input = [letters.lower() for letters in prediction_input if letters not in string.punctuation]\n",
        "  prediction_input = ''.join(prediction_input)\n",
        "  texts_p.append(prediction_input)\n",
        "\n",
        "  # Tokenisasi dan Padding\n",
        "  prediction_input = tokenizer.texts_to_sequences(texts_p)\n",
        "  prediction_input = np.array(prediction_input).reshape(-1)\n",
        "  prediction_input = pad_sequences([prediction_input], max_sequence_length)\n",
        "\n",
        "  # Mendapatkan hasil keluaran pada model\n",
        "  output = model.predict(prediction_input)\n",
        "  output = output.argmax()\n",
        "\n",
        "  # Menemukan respon sesuai data tag\n",
        "  response_tag = le.inverse_transform([output])[0]\n",
        "  print(\"🤖 ChatbotX :\", random.choice(responses[response_tag]))\n",
        "  if response_tag == \"goodbye\":\n",
        "    break"
      ]
    },
    {
      "cell_type": "code",
      "execution_count": null,
      "metadata": {},
      "outputs": [],
      "source": []
    }
  ],
  "metadata": {
    "colab": {
      "provenance": []
    },
    "kernelspec": {
      "display_name": "Python 3",
      "name": "python3"
    },
    "language_info": {
      "codemirror_mode": {
        "name": "ipython",
        "version": 3
      },
      "file_extension": ".py",
      "mimetype": "text/x-python",
      "name": "python",
      "nbconvert_exporter": "python",
      "pygments_lexer": "ipython3",
      "version": "3.11.4"
    }
  },
  "nbformat": 4,
  "nbformat_minor": 0
}
